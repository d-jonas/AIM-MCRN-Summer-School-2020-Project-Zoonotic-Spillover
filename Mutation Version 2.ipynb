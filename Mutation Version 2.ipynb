{
 "cells": [
  {
   "cell_type": "markdown",
   "metadata": {},
   "source": [
    "Simulation for branching process with random mutation. Each time the pathogen transmits to a new person, it mutates. \n",
    "\n",
    "IN THIS VERSION, BOTH BETA AND GAMMA ARE ALLOWED TO MUTATE.\n",
    "\n",
    "There are 2 main functions, \"sim\" and \"recurrent_sim\".\n",
    "\n",
    "\"sim\" represents a process without recurrent spillover. It seeds the population with an initial case (presumably spilled over from a reservoir). It branches until either the infection goes extinct, or it surpasses a threshold. In the latter case, we call it an outbreak. \n",
    "\n",
    "\"recurrent_sim\" represents a process with random recurrent spillover, at some rate alpha. It begins with a single founding spillover case and then it branches. Meanwhile, recurrent spillovers arrive randomly, each giving birth to a new branching process. Overall the infection either surpasses an outbreak threshold, or it goes extinct (which requires a moment in time when ALL spillover processes have gone extinct). \n",
    "\n",
    "To dos & possible to dos: \n",
    "    - Make more graphs/visualizations.\n",
    "    - Play with mutation rates.\n",
    "    - Play with spillover rate.\n",
    "    - Include backwards transmission.\n",
    "    - Try it with a finite population.\n",
    "    - Do a sanity check for the implementation of interevent time against Linda's slides.\n",
    "    - Do a sanity check for the bulk recurrent simulation against the Voinson 2018 paper."
   ]
  },
  {
   "cell_type": "code",
   "execution_count": 19,
   "metadata": {},
   "outputs": [],
   "source": [
    "import numpy as np\n",
    "import matplotlib.pyplot as plt\n",
    "from scipy.integrate import odeint\n",
    "import sympy as sm"
   ]
  },
  {
   "cell_type": "code",
   "execution_count": 35,
   "metadata": {},
   "outputs": [],
   "source": [
    "###################################################\n",
    "# simulates infection WITHOUT recurrent spillover #\n",
    "# ALLOWS BOTH BETA AND GAMMA TO MUTATE.           #\n",
    "###################################################\n",
    "#\n",
    "# input beta0 is transmission rate of the initial case.\n",
    "# input gamma0 is recovery rate of the initial case. \n",
    "#\n",
    "# optional input mu_1 represents mutation rate for beta. If unspecified, defaults to 0.001\n",
    "# optional input mu_2 represents mutation rate for gamma. If unspecified, defaults to 0.001\n",
    "#\n",
    "###################################################\n",
    "#\n",
    "# returns [0, t_ext] if extinction, where t_ext is time of extinction. \n",
    "# returns [1] if outbreak\n",
    "#\n",
    "###################################################\n",
    "def sim(beta_0, gamma_0, mu_1=0.001, mu_2=0.001):\n",
    "    \n",
    "    outbreak_thresh = 100 #call it an outbreak if this many people are infected\n",
    "    \n",
    "    #store active cases as an array of triples\n",
    "    #each triple looks like [beta, gamma, time of infection] and represents one infected person\n",
    "    infecteds=[[beta_0, gamma_0, 0]]\n",
    "    \n",
    "    N_infected = len(infecteds) #keep track of number of infected people\n",
    "    \n",
    "    t_ext = None #time of extinction, will fill this value and return it if the infection goes extinct\n",
    "    \n",
    "    while True: \n",
    "        \n",
    "        #print(\"\\n\", \"infecteds now = \", infecteds)\n",
    "        \n",
    "        #keeps track of indices of recovered people\n",
    "        #will delete them from array of infecteds at the end of each while loop iteration\n",
    "        recovereds = []\n",
    "        \n",
    "        for i, person in enumerate(infecteds): #go through and branch each person in array of infecteds\n",
    "\n",
    "            #print(\"\\n\", \"branching person\", i)\n",
    "            \n",
    "            [beta, gamma, t] = person\n",
    "            \n",
    "            while True:\n",
    "                \n",
    "                #interevent time\n",
    "                #note this is interevent time for ONE person, NOT for entire population\n",
    "                dt = np.random.exponential(scale=1/(beta + gamma))\n",
    "                new_t = t + dt #time of new event\n",
    "                \n",
    "                #pick which new event happens, transmission or recovery         \n",
    "                ev = np.random.rand() #draw number from uniform distribution over [0, 1)\n",
    "                prob_trans = beta / (beta+gamma)\n",
    "\n",
    "                if (ev < prob_trans): #transmission\n",
    "                    \n",
    "                    #print(\"person\", i, \" is transmitting\")\n",
    "                    \n",
    "                    #pick beta for new case\n",
    "                    mut1 = np.random.normal(loc=0.0, scale=mu_1) #mutation is a number drawn from normal distribution\n",
    "                    new_beta = max(0, beta + mut1) #add mutation but don't allow negative beta\n",
    "                    \n",
    "                    #pick gamma for new case\n",
    "                    mut2 = np.random.normal(loc=0.0, scale=mu_2) #mutation is a number drawn from normal distribution\n",
    "                    new_gamma = max(0, gamma + mut2) #add mutation don't allow negative gamma\n",
    "                    \n",
    "                    #append new person to array of infecteds\n",
    "                    infecteds = np.append(infecteds, [[new_beta, new_gamma, new_t]], axis=0)\n",
    "                    N_infected += 1\n",
    "\n",
    "                    #print(\"new infection: \", [new_beta, new_gamma, new_t])\n",
    "\n",
    "                else: #recovery\n",
    "                    \n",
    "                    #print(\"person\", i, \" recovers\") \n",
    "                    \n",
    "                    N_infected -= 1\n",
    "                    \n",
    "                    if N_infected == 0:\n",
    "                        t_ext = new_t #time of extinction\n",
    "                    \n",
    "                    #mark index of this recovered person, in order to delete them later\n",
    "                    #(we don't delete yet, because that will mess up the indexing of the for loop)\n",
    "                    recovereds.append(i)\n",
    "                    break #skip to next person\n",
    "\n",
    "        #after each time we complete a round of branching everybody:\n",
    "        #1. update the array of infecteds by deleting recoveries\n",
    "        infecteds = np.delete(infecteds, recovereds, axis=0)\n",
    "        #2. check if we have extinction/outbreak yet\n",
    "        if N_infected == 0:\n",
    "            #print(\"\\n\", \"extinction\")\n",
    "            return [0, t_ext]\n",
    "        elif N_infected >= outbreak_thresh:\n",
    "            #print(\"\\n\", \"outbreak!\")\n",
    "            return [1]"
   ]
  },
  {
   "cell_type": "code",
   "execution_count": 36,
   "metadata": {},
   "outputs": [],
   "source": [
    "#####################################################\n",
    "# runs many simulations WITHOUT recurrent spillover #\n",
    "#####################################################\n",
    "#\n",
    "# returns the percentage of those simulations that outbreak\n",
    "#\n",
    "#####################################################\n",
    "\n",
    "def sim_percentage(beta_0, gamma_0, mu_1=0.001, mu_2=0.001):\n",
    "    \n",
    "    N_sims = 100 #number of simulations\n",
    "    \n",
    "    N_outbreaks = 0\n",
    "    for i in range(N_sims):\n",
    "        if sim(beta_0, gamma_0, mu_1, mu_2) == [1]: N_outbreaks += 1\n",
    "    return N_outbreaks/N_sims"
   ]
  },
  {
   "cell_type": "code",
   "execution_count": 39,
   "metadata": {},
   "outputs": [
    {
     "data": {
      "image/png": "[encoded data removed]",
      "text/plain": [
       "<Figure size 432x288 with 1 Axes>"
      ]
     },
     "metadata": {
      "needs_background": "light"
     },
     "output_type": "display_data"
    }
   ],
   "source": [
    "################\n",
    "# SANITY CHECK #\n",
    "################\n",
    "#\n",
    "# When there is no mutation, check that our simulation agrees with known results.\n",
    "# From Linda's talk: the correct probability of outbreak is:\n",
    "#\n",
    "#                            0 if R_0 < 1\n",
    "#                            1-1/R_0 = 1-gamma/beta if R_0 > 1\n",
    "#\n",
    "################\n",
    "\n",
    "#Take a grid of gamma and beta values, which correspond to a variety of R_0 values.\n",
    "beta_range = np.linspace(0.1, 5, 6)\n",
    "gamma_range = np.linspace(0.1, 2, 4)\n",
    "\n",
    "#scatter plot simulated percentages of outbreak\n",
    "for beta in beta_range:\n",
    "    for gamma in gamma_range:\n",
    "        R_0 = beta/gamma\n",
    "        p = sim_percentage(beta, gamma, mu_1=0, mu_2=0) #mutation rates are set to 0\n",
    "        plt.plot(R_0, p, \"ob\")\n",
    "\n",
    "\n",
    "#graph actual probability of outbreak\n",
    "R_0 = np.arange(0.01,50,0.1)\n",
    "plt.plot(R_0, 1-1/R_0, label='actual probability')\n",
    "\n",
    "plt.title('Sanity Check')\n",
    "plt.xlabel(\"R_0\")\n",
    "plt.ylabel(\"p\")\n",
    "plt.xlim(0, 50)\n",
    "plt.ylim(0,1)\n",
    "plt.legend()\n",
    "plt.show()"
   ]
  },
  {
   "cell_type": "markdown",
   "metadata": {},
   "source": [
    "Simulations WITH Recurrent Spillover"
   ]
  },
  {
   "cell_type": "code",
   "execution_count": 42,
   "metadata": {},
   "outputs": [],
   "source": [
    "################################################\n",
    "# simulates infection WITH recurrent spillover #\n",
    "################################################\n",
    "#\n",
    "# input alpha = spillover rate.\n",
    "#\n",
    "# inputs beta_0, gamma_0, mu_1, mu_2 are the same as in the function sim from above\n",
    "#\n",
    "# there are two hidden inputs max_t_ext, t_s, which you should ignore. (do NOT pass in any values for these.)\n",
    "# they are only used implicitly when this function recursively calls itself.\n",
    "#\n",
    "################################################\n",
    "#\n",
    "# returns 1 if outbreak\n",
    "# returns 0 if extinction\n",
    "#\n",
    "################################################\n",
    "\n",
    "def recurrent_sim(alpha, beta_0, gamma_0, mu_1=0.001, mu_2=0.001, max_t_ext=0, t_s=0): \n",
    "    \n",
    "    #print(\"max_t_ext = \", max_t_ext)\n",
    "    \n",
    "    # hidden input max_t_ext keeps track of maximum extinction time seen so far\n",
    "    # hidden input t_s keeps track of most recent time of spillover\n",
    "    \n",
    "    # simulate tree from a new spillover event\n",
    "    sim_output = sim(beta_0, gamma_0, mu_1, mu_2)\n",
    "\n",
    "    # if simulation outbreaks, we are done\n",
    "    if sim_output == [1]:\n",
    "        \n",
    "        #print(\"\\n\", \"outbreak!\")\n",
    "        return 1\n",
    "    \n",
    "    # otherwise, that tree goes extinct\n",
    "    # but we need to check whether any other spillovers have happened\n",
    "    else:\n",
    "        \n",
    "        #print(\"max_t_ext updating, = max of \", max_t_ext, \"and\", sim_output[1])\n",
    "        max_t_ext = max(max_t_ext, sim_output[1]) #update max extinction time, if necessary\n",
    "        \n",
    "        #generate time of next spillover\n",
    "        dt_s = np.random.exponential(scale=1/alpha) #inter-spillover time\n",
    "        t_s += dt_s #time of next spillover\n",
    "        #print(\"time of spillover is t_s = \", t_s)\n",
    "\n",
    "        # if spillover occurs soon enough, we have to simulate another tree. recurse.\n",
    "        if t_s < max_t_ext: \n",
    "            \n",
    "            #print(\"a spillover occured! Recursing...\")\n",
    "            return recurrent_sim(alpha, beta_0, gamma_0, mu_1, mu_2, max_t_ext, t_s)\n",
    "\n",
    "        # if spillover occurs too late, we are done.\n",
    "        else: \n",
    "            \n",
    "            #print(\"next spillover too late. extinction!\")\n",
    "            return 0"
   ]
  },
  {
   "cell_type": "code",
   "execution_count": 43,
   "metadata": {},
   "outputs": [
    {
     "data": {
      "text/plain": [
       "0"
      ]
     },
     "execution_count": 43,
     "metadata": {},
     "output_type": "execute_result"
    }
   ],
   "source": [
    "####################################################\n",
    "# run a single simulation WITH recurrent spillover #\n",
    "####################################################\n",
    "\n",
    "#parameters\n",
    "alpha = 0.1\n",
    "beta_0 = 0.09\n",
    "gamma_0 = 0.1\n",
    "\n",
    "recurrent_sim(alpha, beta_0, gamma_0)"
   ]
  },
  {
   "cell_type": "code",
   "execution_count": 44,
   "metadata": {},
   "outputs": [],
   "source": [
    "##################################################\n",
    "# runs many simulations WITH recurrent spillover #\n",
    "##################################################\n",
    "#\n",
    "# returns the percentage of them that outbreak\n",
    "#\n",
    "##################################################\n",
    "\n",
    "def recurrent_sim_percentage(alpha, beta_0, gamma_0, mu_1 = 0.01, mu_2 = 0.01): \n",
    "    \n",
    "    N_sims = 10 #number of simulations\n",
    "    \n",
    "    N_outbreaks = 0\n",
    "    for i in range(N_sims):\n",
    "        if recurrent_sim(alpha, beta_0, gamma_0, mu_1, mu_2) == 1: \n",
    "                N_outbreaks += 1\n",
    "    return N_outbreaks/N_sims"
   ]
  },
  {
   "cell_type": "code",
   "execution_count": 45,
   "metadata": {},
   "outputs": [
    {
     "data": {
      "text/plain": [
       "0.2"
      ]
     },
     "execution_count": 45,
     "metadata": {},
     "output_type": "execute_result"
    }
   ],
   "source": [
    "##################################################\n",
    "# run a bulk simulation WITH recurrent spillover #\n",
    "##################################################\n",
    "\n",
    "#parameters\n",
    "alpha = 0.7\n",
    "beta_0 = 0.09\n",
    "gamma_0 = 0.1\n",
    "\n",
    "recurrent_sim_percentage(alpha, beta_0, gamma_0, mu_1=0.001, mu_2=0.001)"
   ]
  },
  {
   "cell_type": "code",
   "execution_count": null,
   "metadata": {},
   "outputs": [],
   "source": []
  }
 ],
 "metadata": {
  "kernelspec": {
   "display_name": "Python 3",
   "language": "python",
   "name": "python3"
  },
  "language_info": {
   "codemirror_mode": {
    "name": "ipython",
    "version": 3
   },
   "file_extension": ".py",
   "mimetype": "text/x-python",
   "name": "python",
   "nbconvert_exporter": "python",
   "pygments_lexer": "ipython3",
   "version": "3.7.6"
  }
 },
 "nbformat": 4,
 "nbformat_minor": 4
}
