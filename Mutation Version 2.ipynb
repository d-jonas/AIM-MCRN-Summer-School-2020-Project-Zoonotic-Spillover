{
 "cells": [
  {
   "cell_type": "markdown",
   "metadata": {},
   "source": [
    "Simulation for branching process with random mutation. Each time the pathogen transmits to a new person, it mutates. \n",
    "\n",
    "IN THIS VERSION, BOTH BETA AND GAMMA ARE ALLOWED TO MUTATE.\n",
    "\n",
    "There are 2 functions, \"sim\" and \"recurrent_sim\".\n",
    "\n",
    "\"sim\" represents a process without recurrent spillover. It seeds the population with an initial case (presumably spilled over from a reservoir). It branches until either the infection goes extinct, or it surpasses a threshold. In the latter case, we call it an outbreak. \n",
    "\n",
    "\"recurrent_sim\" represents a process with random recurrent spillover, at some rate alpha. It begins with a single founding spillover case. Then it branches until either the infection goes extinct, or surpasses a threshold. In the process with recurrent spillover, extinction is defined as any moment in time when there are 0 infected people. (Note this is not stable, as eventually a new spillover will occur).\n",
    "\n",
    "Possible to dos: \n",
    "    1. Make more graphs/visualizations.\n",
    "    2. Include backwards transmission.\n",
    "    3. Try it with a finite population.\n",
    "    4. Check the implementation of interevent time against the results in Linda's talk."
   ]
  },
  {
   "cell_type": "code",
   "execution_count": 19,
   "metadata": {},
   "outputs": [],
   "source": [
    "import numpy as np\n",
    "import matplotlib.pyplot as plt\n",
    "from scipy.integrate import odeint\n",
    "import sympy as sm"
   ]
  },
  {
   "cell_type": "markdown",
   "metadata": {},
   "source": [
    "Simulations WITHOUT Recurrent Spillover"
   ]
  },
  {
   "cell_type": "code",
   "execution_count": 20,
   "metadata": {},
   "outputs": [],
   "source": [
    "###################################################\n",
    "# simulates infection WITHOUT recurrent spillover #\n",
    "# ALLOWS BOTH BETA AND GAMMA TO MUTATE.           #\n",
    "###################################################\n",
    "#\n",
    "# input beta0 is transmission rate of the initial case.\n",
    "# input gamma0 is recovery rate of the initial case. \n",
    "#\n",
    "# optional input mu1 represents mutation rate for beta. If unspecified, defaults to 0.001\n",
    "# optional input mu2 represents mutation rate for gamma. If unspecified, defaults to 0.001\n",
    "#\n",
    "###################################################\n",
    "#\n",
    "# returns [0, t_ext] if extinction, where t is time of extinction. \n",
    "# returns [1] if outbreak\n",
    "#\n",
    "###################################################\n",
    "def sim(beta_0, gamma_0, mu_1=0.001, mu_2=0.001):\n",
    "    \n",
    "    outbreak_thresh = 100 #call it an outbreak if this many people are infected\n",
    "    \n",
    "    #contains active cases as an array of triples\n",
    "    #in each triple 1st elt is beta, 2nd elt is gamma, and 3rd elt is time infected\n",
    "    infecteds=[[beta_0, gamma_0, 0]] \n",
    "    \n",
    "    N_infected = len(infecteds) #keeps track of number of infected people\n",
    "    \n",
    "    t_ext = None #time of extinction, will fill this value and return it\n",
    "    \n",
    "    while True: \n",
    "        \n",
    "        #print(\"\\n\", \"infecteds now = \", infecteds)\n",
    "        \n",
    "        recovereds = [] #keep track of indices of recovered people\n",
    "        \n",
    "        for i, x in enumerate(infecteds): #i is index, x is value\n",
    "            \n",
    "            beta = x[0]\n",
    "            gamma = x[1]\n",
    "            t = x[2]\n",
    "\n",
    "            #print(\"\\n\", \"branching person\", i)\n",
    "            \n",
    "            while True:\n",
    "                \n",
    "                #interevent time (??)\n",
    "                #note this is interevent time for ONE person, NOT for entire population\n",
    "                dt = np.random.exponential(scale=1/(beta + gamma))\n",
    "                new_t = t + dt #time of new event\n",
    "                \n",
    "                #pick which new event, transmission or recovery, happens            \n",
    "                ev = np.random.rand() #draw number from uniform distribution over [0, 1)\n",
    "                prob_trans = beta / (beta+gamma) #probability of transmission instead of recovery\n",
    "\n",
    "                if (ev < prob_trans): #transmission\n",
    "                    \n",
    "                    #print(\"person\", i, \" is transmitting\")\n",
    "                    \n",
    "                    N_infected += 1\n",
    "                    \n",
    "                    #pick beta for new case\n",
    "                    mut1 = np.random.normal(loc=0.0, scale=mu_1) #mutation is a number drawn from normal distribution\n",
    "                    new_beta = max(0, beta + mut1) #don't allow negative beta\n",
    "                    \n",
    "                    #pick gamma for new case\n",
    "                    mut2 = np.random.normal(loc=0.0, scale=mu_2) #mutation is a number drawn from normal distribution\n",
    "                    new_gamma = max(0, gamma + mut2) #don't allow negative gamma\n",
    "                    \n",
    "                    infecteds = np.append(infecteds, [[new_beta, new_gamma, new_t]], axis=0)\n",
    "                    #print(\"new infection: \", [new_beta, new_gamma, new_t])\n",
    "\n",
    "                else: #recovery\n",
    "                    \n",
    "                    #print(\"person\", i, \" recovers\") \n",
    "                    \n",
    "                    N_infected -= 1\n",
    "                    \n",
    "                    if N_infected == 0:\n",
    "                        t_ext = new_t #time of extinction\n",
    "                    \n",
    "                    recovereds.append(i) #mark index of this recovered person\n",
    "                    break #skip to next person\n",
    "\n",
    "        #after each time we complete a round of branching everybody:\n",
    "        #1. update the list of infecteds by deleting recovered people\n",
    "        #2. and check if we have extinction/outbreak yet\n",
    "        \n",
    "        infecteds = np.delete(infecteds, recovereds, axis=0)\n",
    "        \n",
    "        if N_infected == 0:\n",
    "            #print(\"\\n\", \"extinction\")\n",
    "            return [0, t_ext]\n",
    "        elif N_infected >= outbreak_thresh:\n",
    "            #print(\"\\n\", \"outbreak!\")\n",
    "            return [1]"
   ]
  },
  {
   "cell_type": "code",
   "execution_count": 21,
   "metadata": {},
   "outputs": [],
   "source": [
    "#####################################################\n",
    "# runs many simulations WITHOUT recurrent spillover #\n",
    "#####################################################\n",
    "#\n",
    "# returns the percentage of simulations that outbreak\n",
    "#\n",
    "#####################################################\n",
    "\n",
    "def sim_percentage(beta_0, gamma_0, mu_1=0.001, mu_2=0.001):\n",
    "    \n",
    "    N_sims = 1000 #number of simulations\n",
    "    \n",
    "    N_outbreaks = 0\n",
    "    for i in range(N_sims):\n",
    "        if sim(beta_0, gamma_0, mu_1, mu_2) == [1]: N_outbreaks += 1\n",
    "    return N_outbreaks/N_sims"
   ]
  },
  {
   "cell_type": "code",
   "execution_count": 23,
   "metadata": {},
   "outputs": [
    {
     "data": {
      "image/png": "[encoded data removed]",
      "text/plain": [
       "<Figure size 432x288 with 1 Axes>"
      ]
     },
     "metadata": {
      "needs_background": "light"
     },
     "output_type": "display_data"
    }
   ],
   "source": [
    "################\n",
    "# SANITY CHECK #\n",
    "################\n",
    "#\n",
    "# When there is no mutation, check that our simulation agrees with known results.\n",
    "# From Linda's talk: the correct probability of outbreak is:\n",
    "#\n",
    "#                            0 if R_0 < 1\n",
    "#                            1-1/R_0 = 1-gamma/beta if R_0 > 1\n",
    "#\n",
    "################\n",
    "\n",
    "#Take a grid of gamma and beta values, which correspond to a variety of R_0 values.\n",
    "beta_range = np.arange(0.1, 5, 0.5)\n",
    "gamma_range = np.arange(0.1, 2, 0.5)\n",
    "\n",
    "#plot simulated percentages of outbreak\n",
    "for beta in beta_range:\n",
    "    for gamma in gamma_range:\n",
    "        R_0 = beta/gamma\n",
    "        p = sim_percentage(beta, gamma, mu_1=0, mu_2=0) #mutation rates are set to 0\n",
    "        plt.plot(R_0, p, \"ob\")\n",
    "\n",
    "\n",
    "#plot actual probabilities of outbreak\n",
    "R_0 = np.arange(0.01,50,0.1)\n",
    "plt.plot(R_0, 1-1/R_0, label='actual probability')\n",
    "\n",
    "plt.title('Sanity Check')\n",
    "plt.xlabel(\"R_0\")\n",
    "plt.ylabel(\"p\")\n",
    "plt.xlim(0, 50)\n",
    "plt.ylim(0,1)\n",
    "plt.legend()\n",
    "plt.show()"
   ]
  },
  {
   "cell_type": "markdown",
   "metadata": {},
   "source": [
    "Simulations WITH Recurrent Spillover"
   ]
  },
  {
   "cell_type": "code",
   "execution_count": 211,
   "metadata": {},
   "outputs": [],
   "source": [
    "################################################\n",
    "# simulates infection WITH recurrent spillover #\n",
    "################################################\n",
    "#\n",
    "# input alpha = spillover rate. \n",
    "#\n",
    "# returns 1 if outbreak\n",
    "# returns 0 if extinction\n",
    "#\n",
    "################################################\n",
    "#\n",
    "# hidden inputs, ONLY for use by this function when it recursively calls itself.\n",
    "# (do NOT need to pass in these inputs when manually calling the function)\n",
    "#\n",
    "# hidden input max_t_ext keeps track of maximum extinction time seen so far\n",
    "# hidden input t_s keeps track of time of last spillover\n",
    "#\n",
    "################################################\n",
    "\n",
    "def recurrent_sim(alpha, beta_0, gamma_0, mu_1=0.001, mu_2=0.001, max_t_ext=0, t_s=0): \n",
    "    #print(\"max_t_ext = \", max_t_ext)\n",
    "    \n",
    "    sim_output = sim(beta_0, gamma_0, mu_1, mu_2)\n",
    "\n",
    "    #if simulation outbreaks, we are done\n",
    "    if sim_output == [1]:\n",
    "        \n",
    "        #print(\"\\n\", \"outbreak!\")\n",
    "        return 1\n",
    "    \n",
    "    else:\n",
    "        #print(\"max_t_ext updating, = max of \", max_t_ext, \"and\", sim_output[1])\n",
    "        max_t_ext = max(max_t_ext, sim_output[1]) #update max extinction time, if necessary\n",
    "        \n",
    "        #generate the time of the next spillover event\n",
    "        dt_s = np.random.exponential(scale=1/alpha) #interevent time  \n",
    "        #print(\"drawing dt_s = \", dt_s)\n",
    "        t_s += dt_s #actual time of spillover\n",
    "        #print(\"actual time of spillover is t_s = \", t_s)\n",
    "\n",
    "        # if spillover occurs soon enough, recurse\n",
    "        if t_s < max_t_ext: \n",
    "            #print(\"a spillover occured! Running another simulation...\")\n",
    "            return recurrent_sim(alpha, beta_0, gamma_0, mu_1, mu_2, max_t_ext, t_s)\n",
    "\n",
    "        # if spillover occurs too late, return 0\n",
    "        else: \n",
    "            #print(\"next spillover too late. extinction!\")\n",
    "            return 0"
   ]
  },
  {
   "cell_type": "code",
   "execution_count": 212,
   "metadata": {},
   "outputs": [
    {
     "data": {
      "text/plain": [
       "0"
      ]
     },
     "execution_count": 212,
     "metadata": {},
     "output_type": "execute_result"
    }
   ],
   "source": [
    "####################################################\n",
    "# run a single simulation WITH recurrent spillover #\n",
    "####################################################\n",
    "\n",
    "#parameters\n",
    "alpha = 0.1\n",
    "beta_0 = 0.09\n",
    "gamma_0 = 0.1\n",
    "\n",
    "recurrent_sim(alpha, beta_0, gamma_0)"
   ]
  },
  {
   "cell_type": "code",
   "execution_count": 213,
   "metadata": {},
   "outputs": [],
   "source": [
    "##################################################\n",
    "# runs many simulations WITH recurrent spillover #\n",
    "##################################################\n",
    "#\n",
    "# returns the percentage of them that outbreak\n",
    "#\n",
    "##################################################\n",
    "\n",
    "def recurrent_sim_percentage(alpha, beta_0, gamma_0, mu_1 = 0.01, mu_2 = 0.01): \n",
    "    \n",
    "    N_sims = 10 #number of simulations\n",
    "    \n",
    "    N_outbreaks = 0\n",
    "    for i in range(N_sims):\n",
    "        if recurrent_sim(alpha, beta_0, gamma_0, mu_1, mu_2) == 1: \n",
    "                N_outbreaks += 1\n",
    "    return N_outbreaks/N_sims"
   ]
  },
  {
   "cell_type": "code",
   "execution_count": 290,
   "metadata": {},
   "outputs": [
    {
     "data": {
      "text/plain": [
       "0.2"
      ]
     },
     "execution_count": 290,
     "metadata": {},
     "output_type": "execute_result"
    }
   ],
   "source": [
    "#########################################################\n",
    "# run a single bulk simulation WITH recurrent spillover #\n",
    "#########################################################\n",
    "\n",
    "#parameters\n",
    "alpha = 0.7\n",
    "beta_0 = 0.09\n",
    "gamma_0 = 0.1\n",
    "\n",
    "recurrent_sim_percentage(alpha, beta_0, gamma_0, mu_1=0.001, mu_2=0.001)"
   ]
  },
  {
   "cell_type": "code",
   "execution_count": null,
   "metadata": {},
   "outputs": [],
   "source": []
  },
  {
   "cell_type": "code",
   "execution_count": null,
   "metadata": {},
   "outputs": [],
   "source": []
  }
 ],
 "metadata": {
  "kernelspec": {
   "display_name": "Python 3",
   "language": "python",
   "name": "python3"
  },
  "language_info": {
   "codemirror_mode": {
    "name": "ipython",
    "version": 3
   },
   "file_extension": ".py",
   "mimetype": "text/x-python",
   "name": "python",
   "nbconvert_exporter": "python",
   "pygments_lexer": "ipython3",
   "version": "3.7.6"
  }
 },
 "nbformat": 4,
 "nbformat_minor": 4
}
