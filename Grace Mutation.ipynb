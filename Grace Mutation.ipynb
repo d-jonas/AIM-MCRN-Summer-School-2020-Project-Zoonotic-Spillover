{
 "cells": [
  {
   "cell_type": "markdown",
   "metadata": {},
   "source": [
    "Simulation for branching process with random mutation. Each time the pathogen transmits to a new person, it mutates. In this version, only beta mutates while gamma remains constant. \n",
    "\n",
    "There are 2 functions, \"sim\" and \"recurrent_sim\".\n",
    "\n",
    "\"sim\" represents a process without recurrent spillover. It seeds the population with an initial case (presumably spilled over from a reservoir). It branches until either the infection goes extinct, or it surpasses a threshold. In the latter case, we call it an outbreak. \n",
    "\n",
    "\"recurrent_sim\" represents a process with random recurrent spillover, at some rate alpha. It begins with a single founding spillover case. Then it branches until either the infection goes extinct, or surpasses a threshold. In the process with recurrent spillover, extinction is defined as any moment in time when there are 0 infected people. (Note this is not stable, as eventually a new spillover will occur).\n",
    "\n",
    "Next steps: \n",
    "    1. Create graphs/visualizations.\n",
    "    2. Allow gamma to mutate.\n",
    "    4. Include backwards transmission."
   ]
  },
  {
   "cell_type": "code",
   "execution_count": 185,
   "metadata": {},
   "outputs": [],
   "source": [
    "import numpy as np\n",
    "import matplotlib.pyplot as plt\n",
    "from scipy.integrate import odeint\n",
    "import sympy as sm"
   ]
  },
  {
   "cell_type": "code",
   "execution_count": 187,
   "metadata": {},
   "outputs": [],
   "source": [
    "#parameters\n",
    "gamma = 0.1 #recovery rate - constant for everyone right now\n",
    "#initial case(s)\n",
    "infecteds = [[0.09, 0]] #1st elt is beta, 2nd elt is time infected\n",
    "\n",
    "#simulates infection WITHOUT recurrent spillover\n",
    "#returns [0, t_ext] if extinction, where t is time of extinction. \n",
    "#returns [1] if outbreak\n",
    "def sim(infecteds, gamma):\n",
    "    \n",
    "    max_infected = 100 #call it an outbreak if this many people are infected\n",
    "    N_infected = len(infecteds) #number of infected people\n",
    "    t_ext = np.inf\n",
    "    \n",
    "    while True: \n",
    "        \n",
    "        #print(\"\\n\", \"infecteds now = \", infecteds)\n",
    "        \n",
    "        recovereds = [] #keep track of indices of recovered people\n",
    "        \n",
    "        for i, x in enumerate(infecteds): #i is index, x is value\n",
    "            \n",
    "            beta = x[0]\n",
    "            t = x[1]\n",
    "\n",
    "            #print(\"\\n\", \"branching person\", i)\n",
    "            \n",
    "            while True:\n",
    "                \n",
    "                dt = np.random.exponential(scale=1/(beta + gamma)) #interevent time (??)\n",
    "                new_t = t + dt #time of new event\n",
    "                \n",
    "                #pick which new event, transmission or recovery, happens            \n",
    "                ev = np.random.rand()\n",
    "                prob_trans = beta / (beta+gamma) #probability of transmission instead of recovery\n",
    "\n",
    "                if (ev < prob_trans): #transmission\n",
    "                    \n",
    "                    #print(\"person\", i, \" is transmitting\")\n",
    "                    \n",
    "                    N_infected += 1\n",
    "                    \n",
    "                    #pick beta for new case\n",
    "                    mut = np.random.normal(loc=0.0, scale=0.01, size=None) #mutation is a perturbation drawn from normal distribution\n",
    "                    new_beta = max(0, beta + mut) #don't allow negative beta\n",
    "                    \n",
    "                    infecteds = np.append(infecteds, [[new_beta, new_t]], axis=0)\n",
    "                    #print(\"new infection: \", [new_beta, new_t])\n",
    "\n",
    "                else: #recovery\n",
    "                    \n",
    "                    #print(\"person\", i, \" recovers\") \n",
    "                    \n",
    "                    N_infected -= 1\n",
    "                    \n",
    "                    if N_infected == 0:\n",
    "                        t_ext = new_t\n",
    "                    \n",
    "                    recovereds.append(i) #mark that they recovered\n",
    "                    break #skip to next person\n",
    "\n",
    "        #after each time we complete a round of branching everybody:\n",
    "        #1. update the list of infecteds by deleting recovered people\n",
    "        #2. and check if we have extinction/outbreak\n",
    "        \n",
    "        infecteds = np.delete(infecteds, recovereds, axis=0)\n",
    "        \n",
    "        if N_infected == 0:\n",
    "            #print(\"\\n\", \"extinction\")\n",
    "            return [0, t_ext]\n",
    "        elif N_infected >= max_infected:\n",
    "            #print(\"\\n\", \"outbreak!\")\n",
    "            return [1]"
   ]
  },
  {
   "cell_type": "code",
   "execution_count": 188,
   "metadata": {},
   "outputs": [],
   "source": [
    "#parameters\n",
    "alpha = 0.1\n",
    "max_t_ext = 0\n",
    "t_s = 0\n",
    "\n",
    "#simulates infection WITH recurrent spillover\n",
    "#returns 1 if outbreak\n",
    "#returns 0 if extinction\n",
    "\n",
    "def recurrent_sim(alpha, max_t_ext, t_s): \n",
    "    \n",
    "    #print(\"max_t_ext = \", max_t_ext)\n",
    "    \n",
    "    sim_output = sim(infecteds, gamma)\n",
    "\n",
    "    #if simulation outbreaks, we are done\n",
    "    if sim_output == [1]:\n",
    "        \n",
    "        #print(\"\\n\", \"outbreak!\")\n",
    "        return 1\n",
    "    \n",
    "    else:\n",
    "        #print(\"max_t_ext updating, = max of \", max_t_ext, \"and\", sim_output[1])\n",
    "        max_t_ext = max(max_t_ext, sim_output[1])\n",
    "        \n",
    "        #draw an interevent time to next spillover\n",
    "        dt_s = np.random.exponential(scale=1/alpha)\n",
    "        #print(\"drawing dt_s = \", dt_s)\n",
    "        \n",
    "        #actual time of next spillover\n",
    "        t_s += dt_s\n",
    "        #print(\"actual time of spillover is t_s = \", t_s)\n",
    "\n",
    "        # if spillover occurs before max time of extinction, run another simulation\n",
    "        if t_s < max_t_ext: \n",
    "            #print(\"a spillover occured! Running another simulation...\")\n",
    "            return recurrent_sim(alpha, max_t_ext, t_s)\n",
    "\n",
    "        # if spillover occurs after extinction, end simulation and return 0\n",
    "        else: \n",
    "            #print(\"next spillover too late. extinction!\")\n",
    "            return 0"
   ]
  },
  {
   "cell_type": "code",
   "execution_count": 189,
   "metadata": {},
   "outputs": [
    {
     "data": {
      "text/plain": [
       "0"
      ]
     },
     "execution_count": 189,
     "metadata": {},
     "output_type": "execute_result"
    }
   ],
   "source": [
    "#run a single simulation WITH recurrent spillover\n",
    "recurrent_sim(alpha, max_t_ext, t_s)"
   ]
  },
  {
   "cell_type": "code",
   "execution_count": 195,
   "metadata": {},
   "outputs": [
    {
     "name": "stdout",
     "output_type": "stream",
     "text": [
      "percentage of outbreaks =  0.114\n"
     ]
    }
   ],
   "source": [
    "#run many simulations WITH recurrent spillover and see what percentage of them outbreak\n",
    "\n",
    "N_sims = 1000\n",
    "N_outbreaks = 0\n",
    "\n",
    "for i in range(N_sims):\n",
    "    if recurrent_sim(alpha, max_t_ext, t_s) == 1: N_outbreaks += 1\n",
    "    \n",
    "print(\"percentage of outbreaks = \", N_outbreaks/N_sims)"
   ]
  },
  {
   "cell_type": "code",
   "execution_count": 198,
   "metadata": {},
   "outputs": [
    {
     "name": "stdout",
     "output_type": "stream",
     "text": [
      "percentage of outbreaks =  0.04\n"
     ]
    }
   ],
   "source": [
    "#run many simulations WITHOUT recurrent spillover and see what percentage of them outbreak\n",
    "\n",
    "N_sims = 1000\n",
    "N_outbreaks = 0\n",
    "\n",
    "for i in range(N_sims):\n",
    "    if sim(infecteds, gamma) == [1]: N_outbreaks += 1\n",
    "    \n",
    "print(\"percentage of outbreaks = \", N_outbreaks/N_sims)"
   ]
  },
  {
   "cell_type": "code",
   "execution_count": null,
   "metadata": {},
   "outputs": [],
   "source": []
  }
 ],
 "metadata": {
  "kernelspec": {
   "display_name": "Python 3",
   "language": "python",
   "name": "python3"
  },
  "language_info": {
   "codemirror_mode": {
    "name": "ipython",
    "version": 3
   },
   "file_extension": ".py",
   "mimetype": "text/x-python",
   "name": "python",
   "nbconvert_exporter": "python",
   "pygments_lexer": "ipython3",
   "version": "3.7.6"
  }
 },
 "nbformat": 4,
 "nbformat_minor": 4
}
