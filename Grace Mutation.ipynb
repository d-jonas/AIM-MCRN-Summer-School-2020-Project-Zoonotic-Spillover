{
 "cells": [
  {
   "cell_type": "markdown",
   "metadata": {},
   "source": [
    "Simulation for branching process with random mutation. Each time the pathogen transmits to a new person, it mutates. In this version, only beta mutates while gamma remains constant. \n",
    "\n",
    "We seed the population with an initial case (presumably spilled over from a reservoir). We branch until either the infection goes extinct, or it surpasses a threshold. In the latter case, we call it an outbreak. \n",
    "\n",
    "Notes: \n",
    "    1. Not sure how to compute interevent time correctly, but it doesn't matter in this version. \n",
    "\n",
    "Next steps: \n",
    "    1. Create graphs/visualizations (may need to figure out interevent time for this).\n",
    "    2. Allow gamma to mutate.\n",
    "    3. Include recurrent reservoir spillover. \n",
    "    4. Include backwards transmission."
   ]
  },
  {
   "cell_type": "code",
   "execution_count": 72,
   "metadata": {},
   "outputs": [],
   "source": [
    "import numpy as np\n",
    "import matplotlib.pyplot as plt\n",
    "from scipy.integrate import odeint\n",
    "import sympy as sm"
   ]
  },
  {
   "cell_type": "code",
   "execution_count": 73,
   "metadata": {},
   "outputs": [],
   "source": [
    "#parameters\n",
    "gamma = 0.1 #recovery rate - constant for everyone right now\n",
    "\n",
    "#initial case(s)\n",
    "infecteds = [[0.09, 0]] #1st elt is beta, 2nd elt is time infected"
   ]
  },
  {
   "cell_type": "code",
   "execution_count": 85,
   "metadata": {},
   "outputs": [],
   "source": [
    "#returns 0 if extinction, 1 if outbreak\n",
    "def sim(infecteds, gamma):\n",
    "    \n",
    "    max_infected = 100 #call it an outbreak if this many people are infected\n",
    "    N_infected = len(infecteds) #number of infected people\n",
    "\n",
    "    while True: \n",
    "        \n",
    "        #print(\"\\n\", \"infecteds now = \", infecteds)\n",
    "        \n",
    "        recovereds = [] #keep track of indices of recovered people\n",
    "        \n",
    "        for i, x in enumerate(infecteds): #i is index, x is value\n",
    "            \n",
    "            beta = x[0]\n",
    "            t = x[1]\n",
    "\n",
    "            #print(\"\\n\", \"branching person\", i)\n",
    "            \n",
    "            while True:\n",
    "                \n",
    "                dt = np.random.exponential(scale=1/(beta + gamma)) #interevent time (??)\n",
    "                new_t = t + dt #time of new event\n",
    "                \n",
    "                #pick which new event, transmission or recovery, happens            \n",
    "                ev = np.random.rand()\n",
    "                prob_trans = beta / (beta+gamma) #probability of transmission instead of recovery\n",
    "\n",
    "                if (ev < prob_trans): #transmission\n",
    "                    \n",
    "                    #print(\"person\", i, \" is transmitting\")\n",
    "                    \n",
    "                    N_infected += 1\n",
    "                    \n",
    "                    #pick beta for new case\n",
    "                    mut = np.random.normal(loc=0.0, scale=0.01, size=None) #mutation is a perturbation drawn from normal distribution\n",
    "                    new_beta = max(0, beta + mut) #don't allow negative beta\n",
    "                    \n",
    "                    infecteds = np.append(infecteds, [[new_beta, new_t]], axis=0)\n",
    "                    #print(\"new infection: \", [new_beta, new_t])\n",
    "\n",
    "                else: #recovery\n",
    "                    \n",
    "                    #print(\"person\", i, \" recovers\") \n",
    "                    \n",
    "                    N_infected -= 1\n",
    "                    \n",
    "                    recovereds.append(i) #mark that they recovered\n",
    "                    break #skip to next person\n",
    "\n",
    "        #after each time we complete a round of branching everybody:\n",
    "        #1. update the list of infecteds by deleting recovered people\n",
    "        #2. and check if we have extinction/outbreak\n",
    "        \n",
    "        infecteds = np.delete(infecteds, recovereds, axis=0)\n",
    "        \n",
    "        if N_infected == 0:\n",
    "            #print(\"\\n\", \"extinction\")\n",
    "            return 0\n",
    "        elif N_infected >= max_infected:\n",
    "            #print(\"\\n\", \"outbreak!\")\n",
    "            return 1"
   ]
  },
  {
   "cell_type": "code",
   "execution_count": 98,
   "metadata": {},
   "outputs": [
    {
     "name": "stdout",
     "output_type": "stream",
     "text": [
      "percentage of outbreaks =  0.046\n"
     ]
    }
   ],
   "source": [
    "N_sims = 1000\n",
    "\n",
    "N_outbreaks = 0\n",
    "for i in range(N_sims):\n",
    "    if sim(infecteds, gamma) == 1: N_outbreaks += 1\n",
    "    \n",
    "print(\"percentage of outbreaks = \", N_outbreaks/N_sims)"
   ]
  },
  {
   "cell_type": "code",
   "execution_count": null,
   "metadata": {},
   "outputs": [],
   "source": []
  },
  {
   "cell_type": "code",
   "execution_count": null,
   "metadata": {},
   "outputs": [],
   "source": []
  }
 ],
 "metadata": {
  "kernelspec": {
   "display_name": "Python 3",
   "language": "python",
   "name": "python3"
  },
  "language_info": {
   "codemirror_mode": {
    "name": "ipython",
    "version": 3
   },
   "file_extension": ".py",
   "mimetype": "text/x-python",
   "name": "python",
   "nbconvert_exporter": "python",
   "pygments_lexer": "ipython3",
   "version": "3.7.6"
  }
 },
 "nbformat": 4,
 "nbformat_minor": 4
}
