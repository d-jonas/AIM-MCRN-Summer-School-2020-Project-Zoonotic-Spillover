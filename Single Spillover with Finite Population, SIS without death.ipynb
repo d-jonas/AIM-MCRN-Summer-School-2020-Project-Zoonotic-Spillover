{
 "cells": [
  {
   "cell_type": "markdown",
   "metadata": {},
   "source": [
    "Single spillover (non-recurrent) with finite population and SIS dynamics WITHOUT death. (no natural death, no disease-induced death)"
   ]
  },
  {
   "cell_type": "code",
   "execution_count": 6,
   "metadata": {},
   "outputs": [],
   "source": [
    "import numpy as np\n",
    "import matplotlib.pyplot as plt"
   ]
  },
  {
   "cell_type": "code",
   "execution_count": 128,
   "metadata": {},
   "outputs": [],
   "source": [
    "#class representing one simulation.\n",
    "\n",
    "class Sim:\n",
    "    def __init__(self, times, betas, gammas, I, S):\n",
    "        \n",
    "        #these are all arrays of the same length\n",
    "        self.times = times #all the times of new events (infections and recoveries, including spillover infections)\n",
    "        self.betas = betas #the corresponding betas. if the event was a recovery, the corresponding beta is \"None\"\n",
    "        self.gammas = gammas #the corresponding gammas. if the event was a recovery, the corresponding gamma is \"None\"\n",
    "        self.I = I #the number of infecteds, inclusive of the new event\n",
    "        self.S = S #the number of susceptibles, inclusive of the new event\n",
    "        \n",
    "    def append(self, t, beta, gamma, I, S):\n",
    "        self.times.append(t)\n",
    "        self.betas.append(beta)\n",
    "        self.gammas.append(gamma)\n",
    "        self.I.append(I)\n",
    "        self.S.append(S)"
   ]
  },
  {
   "cell_type": "code",
   "execution_count": 162,
   "metadata": {},
   "outputs": [],
   "source": [
    "def sim_finite(S_0, beta_0, gamma_0, mu_1=0, mu_2=0, t_thresh = 1000):\n",
    "\n",
    "    #initialize time variable\n",
    "    t=0\n",
    "    \n",
    "    #initialize return object\n",
    "    sim = Sim([t], [beta_0], [gamma_0], [1], [S_0])\n",
    "    \n",
    "    #initialize counters\n",
    "    S = S_0; I = 1\n",
    "    \n",
    "    #initialize matrix of active cases. each case is a row of length 3 that looks like [beta, gamma, time of infection] of that person. \n",
    "    infecteds=np.array([[beta_0, gamma_0, t]])\n",
    "    \n",
    "    #initialize running sums of beta, gamma over all currently infected people    \n",
    "    beta_sum = beta_0; gamma_sum = gamma_0\n",
    "    \n",
    "    \n",
    "    while True:\n",
    "        \n",
    "        total_pop = S + I #total population\n",
    "        \n",
    "        #grab arrays of all betas, gammas of currently infected people\n",
    "        betas = infecteds[:,0]; gammas = infecteds[:,1]\n",
    "        \n",
    "        #adjust betas to actual transmission rates, which depend on proportion of population that is susceptible\n",
    "        trans_rates = betas*S/total_pop\n",
    "        trans_rates_sum = beta_sum*S/total_pop #sum all transmission rates\n",
    "        \n",
    "        \n",
    "        #compute interevent time (for the whole population)\n",
    "        \n",
    "        #rate of events is sum of transmission rate and gamma over all infected people\n",
    "        overall_rate = trans_rates_sum + gamma_sum\n",
    "        \n",
    "        #draw from exponential distribution with this rate\n",
    "        dt = np.random.exponential(scale=1/overall_rate) #interevent time\n",
    "        t += dt #actual time of new event\n",
    "        \n",
    "        #return if next event is later than t_thresh\n",
    "        if t > t_thresh: return sim\n",
    "        \n",
    "        #otherwise figure out who the event happened to\n",
    "        i = np.random.choice(I, p=(trans_rates+gammas)/overall_rate) #draw index of that person\n",
    "        \n",
    "        #grab their specific beta, gamma, transmission rate\n",
    "        beta = betas[i]; gamma = gammas[i]; trans_rate = beta*S/total_pop\n",
    "        \n",
    "        #figure out what they did: transmit, recover, or die\n",
    "        ev = np.random.rand() #draw from uniform distribution over [0, 1)\n",
    "        prob_trans = trans_rate / (trans_rate + gamma) #probability of transmission\n",
    "        \n",
    "        if (ev < prob_trans): #transmission\n",
    "\n",
    "            #pick beta, gamma for new case\n",
    "            #mutation is a number drawn from normal distribution with std dev mu_1 or mu_2 respectively\n",
    "            #don't allow negative beta or gamma.\n",
    "            mut1 = np.random.normal(loc=0.0, scale=mu_1); mut2 = np.random.normal(loc=0.0, scale=mu_2)\n",
    "            new_beta = max(0, beta + mut1)\n",
    "            new_gamma = max(0, gamma + mut2)\n",
    "\n",
    "            #append new case to array of currently infected people\n",
    "            infecteds = np.append(infecteds, [[new_beta, new_gamma, t]], axis=0)\n",
    "\n",
    "            #update counters\n",
    "            I += 1; S -= 1\n",
    "            \n",
    "            #update running sums\n",
    "            beta_sum += new_beta; gamma_sum += new_gamma\n",
    "            \n",
    "            #update return object\n",
    "            sim.append(t, new_beta, new_gamma, I, S)\n",
    "\n",
    "        else: #recovery\n",
    "            \n",
    "            infecteds = np.delete(infecteds, i, axis=0)\n",
    "            \n",
    "            #update counters\n",
    "            I -= 1; S += 1\n",
    "            \n",
    "            #update running sums\n",
    "            beta_sum -= beta; gamma_sum -= gamma\n",
    "            \n",
    "            #update return object\n",
    "            sim.append(t, None, None, I, S)\n",
    "            \n",
    "            #check for extinction and return if so\n",
    "            if I == 0: return sim"
   ]
  },
  {
   "cell_type": "code",
   "execution_count": 135,
   "metadata": {},
   "outputs": [
    {
     "name": "stdout",
     "output_type": "stream",
     "text": [
      "[2, 4, 6, 8, 10]\n"
     ]
    }
   ],
   "source": [
    "list = [1,2,3,4,5]\n",
    "times_two = [i * 2 for i in list]\n",
    "print(times_two)"
   ]
  },
  {
   "cell_type": "code",
   "execution_count": 175,
   "metadata": {},
   "outputs": [
    {
     "name": "stdout",
     "output_type": "stream",
     "text": [
      "CPU times: user 36.7 s, sys: 394 ms, total: 37.1 s\n",
      "Wall time: 38.6 s\n"
     ]
    }
   ],
   "source": [
    "%%time \n",
    "\n",
    "#parameters\n",
    "S_0 = 1000\n",
    "beta_0 = 0.2\n",
    "gamma_0 = 0.2\n",
    "mu = 0.001\n",
    "t_thresh = 10000\n",
    "\n",
    "\n",
    "mu_1 = mu; mu_2 = mu\n",
    "\n",
    "\n",
    "s = None\n",
    "\n",
    "while True:\n",
    "    s = sim_finite(S_0, beta_0, gamma_0, mu_1, mu_2, t_thresh)\n",
    "    if s.times[-1] > 500: break #get a simulation where the disease spreads for at least this many days\n",
    "    #break\n",
    "        \n",
    "times = s.times; betas = s.betas; gammas = s.gammas; I = s.I; S = s.S"
   ]
  },
  {
   "cell_type": "code",
   "execution_count": 176,
   "metadata": {
    "scrolled": false
   },
   "outputs": [
    {
     "data": {
      "image/png": "[encoded data removed]",
      "text/plain": [
       "<Figure size 720x216 with 1 Axes>"
      ]
     },
     "metadata": {
      "needs_background": "light"
     },
     "output_type": "display_data"
    },
    {
     "data": {
      "image/png": "[encoded data removed]",
      "text/plain": [
       "<Figure size 720x216 with 1 Axes>"
      ]
     },
     "metadata": {
      "needs_background": "light"
     },
     "output_type": "display_data"
    },
    {
     "data": {
      "image/png": "[encoded data removed]",
      "text/plain": [
       "<Figure size 720x216 with 1 Axes>"
      ]
     },
     "metadata": {
      "needs_background": "light"
     },
     "output_type": "display_data"
    }
   ],
   "source": [
    "#plot betas over time\n",
    "plt.figure(figsize=(10,3))\n",
    "plt.plot(times, betas, \",r\", label='beta')\n",
    "plt.title('mu = {}'.format(mu_1))\n",
    "plt.autoscale(enable=True, axis='x', tight=True)\n",
    "plt.legend(loc=\"upper right\"); plt.show()\n",
    "\n",
    "#plot gammas over time\n",
    "plt.figure(figsize=(10,3))\n",
    "plt.plot(times, gammas, \",g\", label='gamma')\n",
    "plt.autoscale(enable=True, axis='x', tight=True)\n",
    "plt.legend(loc=\"upper right\"); plt.show()\n",
    "\n",
    "#plot I and S over time\n",
    "plt.figure(figsize=(10,3))\n",
    "plt.plot(times, I, 'blue', label='infected')\n",
    "plt.plot(times, S, 'orange', label='susceptible')\n",
    "plt.xlabel(\"t\")\n",
    "plt.autoscale(enable=True, axis='x', tight=True)\n",
    "plt.legend(loc=\"center right\"); plt.show()"
   ]
  },
  {
   "cell_type": "code",
   "execution_count": 269,
   "metadata": {},
   "outputs": [],
   "source": [
    "#for saving (pickling) sample simulations\n",
    "import pickle"
   ]
  },
  {
   "cell_type": "code",
   "execution_count": 272,
   "metadata": {},
   "outputs": [],
   "source": [
    "#10000 days simulation with mu = 0.001, beta = 0.1, gamma = 0.1, S_0 = 1000\n",
    "#pickled to: s_single_spill_10000.txt\n",
    "\n",
    "#describe simulation\n",
    "#pickled to: \n",
    "\n",
    "file = open('file.txt', 'wb')\n",
    "pickle.dump(s, file)\n",
    "file.close()"
   ]
  },
  {
   "cell_type": "code",
   "execution_count": null,
   "metadata": {},
   "outputs": [],
   "source": [
    "#open a pickled simulation\n",
    "\n",
    "file = open('s_single_spill_10000.txt', 'rb')\n",
    "s = pickle.load(file)\n",
    "file.close()"
   ]
  }
 ],
 "metadata": {
  "kernelspec": {
   "display_name": "Python 3",
   "language": "python",
   "name": "python3"
  },
  "language_info": {
   "codemirror_mode": {
    "name": "ipython",
    "version": 3
   },
   "file_extension": ".py",
   "mimetype": "text/x-python",
   "name": "python",
   "nbconvert_exporter": "python",
   "pygments_lexer": "ipython3",
   "version": "3.7.6"
  }
 },
 "nbformat": 4,
 "nbformat_minor": 4
}
