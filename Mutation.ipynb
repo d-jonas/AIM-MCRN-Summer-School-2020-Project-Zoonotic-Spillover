{
 "cells": [
  {
   "cell_type": "markdown",
   "metadata": {},
   "source": [
    "Simulation for branching process with random mutation. Each time the pathogen transmits to a new person, it mutates (both beta and gamma are allowed to mutate independently).\n",
    "\n",
    "There are 2 main functions, \"sim\" and \"recurrent_sim\".\n",
    "\n",
    "\"sim\" represents a process without recurrent spillover. It seeds the population with an initial case (presumably spilled over from a reservoir). It branches until either the infection goes extinct or surpasses a threshold. In the latter case, we call it an outbreak. \n",
    "\n",
    "\"recurrent_sim\" represents a process with random recurrent spillover at some rate alpha. It begins with a single founding spillover case and branches it. Meanwhile, more spillovers arrive, each giving birth to a new branching process tree. Overall, the infection either surpasses an outbreak threshold, or it goes extinct (which requires a moment in time when ALL spillover processes have gone extinct - i.e. there are 0 infected people at that time). \n",
    "\n",
    "To dos: \n",
    "    - Make more graphs/visualizations.\n",
    "    - Play with mutation rates.\n",
    "            - Play with unequal mutation rates for beta and gamma\n",
    "    - Merge or replace sim with sim_plots (but make it better first)\n",
    "    - Play with spillover rate.\n",
    "    - Include backwards transmission.\n",
    "    - Try with a finite population.\n",
    "    - Create class for return value of simulation\n",
    "    - Improve commenting for treatment of cases where beta=gamma=0 as a result of mutation.\n",
    "    - Improve implementation of branching order, or of N_infecteds count.\n",
    "    - Do a sanity check for the implementation of interevent time against Linda's slides.\n",
    "    - Do a sanity check for the bulk recurrent simulation against the Voinson 2018 paper."
   ]
  },
  {
   "cell_type": "code",
   "execution_count": 1546,
   "metadata": {},
   "outputs": [],
   "source": [
    "import numpy as np\n",
    "import matplotlib.pyplot as plt"
   ]
  },
  {
   "cell_type": "code",
   "execution_count": 1547,
   "metadata": {},
   "outputs": [],
   "source": [
    "###################################################\n",
    "# simulates infection WITHOUT recurrent spillover #\n",
    "# allows both gamma and beta to mutate            #\n",
    "###################################################\n",
    "#\n",
    "# input beta_0 is transmission rate of the initial case.\n",
    "# input gamma_0 is recovery rate of the initial case. \n",
    "#\n",
    "# optional input mu_1 represents mutation rate for beta. If unspecified, defaults to 0.\n",
    "# optional input mu_2 represents mutation rate for gamma. If unspecified, defaults to 0.\n",
    "#\n",
    "###################################################\n",
    "#\n",
    "# returns [0, t_ext] if extinction, where t_ext is time of extinction. \n",
    "# returns [1] if outbreak\n",
    "#\n",
    "###################################################\n",
    "\n",
    "def sim(beta_0, gamma_0, mu_1=0, mu_2=0):\n",
    "    \n",
    "    outbreak_thresh = 100 #call it an outbreak if this many people are infected\n",
    "    \n",
    "    #store active cases as an array of triples\n",
    "    #each triple looks like [beta, gamma, time of infection] and represents one infected person\n",
    "    infecteds=np.array([[beta_0, gamma_0, 0]])\n",
    "    N_infected = 1 #keep track of number of infected people. \n",
    "    \n",
    "    t_ext = None #time of extinction, will fill this value and return it if the infection goes extinct\n",
    "    \n",
    "    while True: \n",
    "        \n",
    "        #print(\"\\n\", \"infecteds now = \", infecteds)\n",
    "        \n",
    "        person = infecteds[0] #branch person 0. note infecteds is maintained in order of increasing time of infection. \n",
    "        [beta, gamma, t] = person\n",
    "        #print(\"\\n\", \"branching person who was infected at time\", t)\n",
    "\n",
    "        while True: #branch person 0 until they recover.\n",
    "\n",
    "            #interevent time\n",
    "            #note this is interevent time for ONE person, NOT for entire population\n",
    "            dt = np.random.exponential(scale=1/(beta + gamma))\n",
    "            new_t = t + dt\n",
    "\n",
    "            #pick which event happens, transmission or recovery         \n",
    "            ev = np.random.rand() #draw number from uniform distribution over [0, 1)\n",
    "            prob_trans = beta / (beta+gamma) #probability of transmission\n",
    "\n",
    "            if (ev < prob_trans): #transmission\n",
    "\n",
    "                #print(\"transmitting\")\n",
    "\n",
    "                #pick beta and gamma for new case\n",
    "                #mutation is a number drawn from normal distribution with std dev mu_1 or mu_2\n",
    "                #don't allow negative beta.\n",
    "                #don't allow gamma to be less than a small value, the natural death rate.\n",
    "                mut1 = np.random.normal(loc=0.0, scale=mu_1)\n",
    "                new_beta = max(0, beta + mut1)\n",
    "                mut2 = np.random.normal(loc=0.0, scale=mu_2)              \n",
    "                nat_death = 0.00002366575 #taken from CDC: https://www.cdc.gov/nchs/fastats/deaths.htm & scaled to be daily rate instead of yearly\n",
    "                new_gamma = max(nat_death, gamma + mut2)\n",
    "\n",
    "                N_infected += 1\n",
    "                \n",
    "                #print(N_infected)\n",
    "\n",
    "                #check if we have an outbreak\n",
    "                if N_infected >= outbreak_thresh:\n",
    "                    \n",
    "                    #print(\"\\n\", \"outbreak!\")\n",
    "                    \n",
    "                    return [1]\n",
    "\n",
    "                #append new person to array of infecteds\n",
    "                infecteds = np.append(infecteds, [[new_beta, new_gamma, new_t]], axis=0)\n",
    "                \n",
    "                #print(\"new infection: \", [new_beta, new_gamma, new_t])\n",
    "\n",
    "            else: #recovery\n",
    "\n",
    "                #print(\"recovering\") \n",
    "\n",
    "                N_infected -= 1\n",
    "                \n",
    "                #print(N_infected)\n",
    "\n",
    "                #check if we have extinction       \n",
    "                if N_infected == 0:\n",
    "                    t_ext = new_t #time of extinction\n",
    "                    \n",
    "                    #print(\"\\n\", \"extinction\")\n",
    "                    \n",
    "                    return [0, t_ext]\n",
    "\n",
    "                #delete the person \n",
    "                infecteds = np.delete(infecteds, 0, axis=0)\n",
    "                \n",
    "                #print('deleted person')\n",
    "                \n",
    "                break #skip to next person\n",
    "\n",
    "            #sort the array of infecteds in increasing order of time infected. \n",
    "            sorted_indices = np.argsort(infecteds[:,2])\n",
    "            infecteds = infecteds[sorted_indices]        \n",
    "            "
   ]
  },
  {
   "cell_type": "code",
   "execution_count": 1548,
   "metadata": {},
   "outputs": [
    {
     "data": {
      "text/plain": [
       "[0, 10.529621708552082]"
      ]
     },
     "execution_count": 1548,
     "metadata": {},
     "output_type": "execute_result"
    }
   ],
   "source": [
    "###########################\n",
    "# run a single simulation #\n",
    "###########################\n",
    "\n",
    "#parameters\n",
    "beta_0 = 0.09\n",
    "gamma_0 = 0.1\n",
    "mu_1 = 0.01\n",
    "mu_2 = 0.01\n",
    "\n",
    "sim(beta_0, gamma_0, mu_1, mu_2)"
   ]
  },
  {
   "cell_type": "code",
   "execution_count": 1549,
   "metadata": {},
   "outputs": [],
   "source": [
    "#########################\n",
    "# runs many simulations #\n",
    "#########################\n",
    "#\n",
    "# optional input N_sims is number of simulations to run.\n",
    "#\n",
    "# returns the percentage of those simulations that outbreak\n",
    "#\n",
    "#########################\n",
    "\n",
    "def sim_percentage(beta_0, gamma_0, mu_1=0, mu_2=0, N_sims=200):\n",
    "    \n",
    "    N_outbreaks = 0\n",
    "    \n",
    "    for i in range(N_sims):\n",
    "        if sim(beta_0, gamma_0, mu_1, mu_2) == [1]: N_outbreaks += 1\n",
    "    return N_outbreaks/N_sims"
   ]
  },
  {
   "cell_type": "code",
   "execution_count": 1558,
   "metadata": {},
   "outputs": [
    {
     "data": {
      "text/plain": [
       "0.0011"
      ]
     },
     "execution_count": 1558,
     "metadata": {},
     "output_type": "execute_result"
    }
   ],
   "source": [
    "#####################################################\n",
    "# run a bulk simulation WITHOUT recurrent spillover #\n",
    "#####################################################\n",
    "\n",
    "#parameters\n",
    "beta_0 = 0.09\n",
    "gamma_0 = 0.1\n",
    "mu_1=0.001\n",
    "mu_2=0.001\n",
    "\n",
    "sim_percentage(beta_0, gamma_0, mu_1, mu_2, N_sims=10000)"
   ]
  },
  {
   "cell_type": "code",
   "execution_count": 1559,
   "metadata": {},
   "outputs": [],
   "source": [
    "# This cell takes several minutes to run.\n",
    "\n",
    "################\n",
    "# SANITY CHECK #\n",
    "################\n",
    "#\n",
    "# When there is no mutation, check that our simulation agrees with known results.\n",
    "# From Linda's talk: the correct probability of outbreak is:\n",
    "#\n",
    "#                            0 if R_0 < 1\n",
    "#                            1-1/R_0 = 1-gamma/beta if R_0 > 1\n",
    "#\n",
    "################\n",
    "\n",
    "# Take some evenly spaced R_0 values from 0.01 to 2.5\n",
    "beta_range = np.linspace(0.001, 0.25, 100)\n",
    "gamma = 0.1\n",
    "\n",
    "R0 = []\n",
    "percent = []\n",
    "\n",
    "#simulate percentages of outbreak\n",
    "for beta in beta_range:\n",
    "    R0 = np.append(R0, beta/gamma)\n",
    "    percent = np.append(percent, sim_percentage(beta, gamma, N_sims=1000)) #default mutation rates are 0"
   ]
  },
  {
   "cell_type": "code",
   "execution_count": 1560,
   "metadata": {},
   "outputs": [
    {
     "data": {
      "image/png": "[encoded data removed]",
      "text/plain": [
       "<Figure size 432x288 with 1 Axes>"
      ]
     },
     "metadata": {
      "needs_background": "light"
     },
     "output_type": "display_data"
    }
   ],
   "source": [
    "#plot the result of the previous cell\n",
    "plt.plot(R0, percent, \"ob\")\n",
    "\n",
    "#graph actual probability of outbreak\n",
    "plt.plot(R0, 1-1/R0, \"r\", label='actual probability')\n",
    "\n",
    "plt.title('Sanity Check, mu1 = mu2 = 0')\n",
    "plt.xlabel(\"R_0\")\n",
    "plt.ylabel(\"p\")\n",
    "plt.xlim(0, 2.5)\n",
    "plt.ylim(0, 0.6)\n",
    "plt.legend()\n",
    "plt.show()"
   ]
  },
  {
   "cell_type": "markdown",
   "metadata": {},
   "source": [
    "The next two cells plot percentage of outbreaks against R_0, when mu_1 = mu_2 = 0.001"
   ]
  },
  {
   "cell_type": "code",
   "execution_count": 1364,
   "metadata": {},
   "outputs": [],
   "source": [
    "# This cell takes several minutes to run.\n",
    "\n",
    "mu_1 = 0.001\n",
    "mu_2 = 0.001\n",
    "\n",
    "# Take a some evenly spaced R_0 values from 0.01 to 2.5\n",
    "beta_range = np.linspace(0.001, 0.25, 100)\n",
    "gamma = 0.1\n",
    "\n",
    "RRR_0 = []\n",
    "ppp = []\n",
    "\n",
    "#simulate percentages of outbreak\n",
    "for beta in beta_range:\n",
    "    RRR_0 = np.append(RRR_0, beta/gamma)\n",
    "    ppp = np.append(ppp, sim_percentage(beta, gamma, mu_1, mu_2, N_sims=1000))"
   ]
  },
  {
   "cell_type": "code",
   "execution_count": 1365,
   "metadata": {},
   "outputs": [
    {
     "data": {
      "image/png": "[encoded data removed]",
      "text/plain": [
       "<Figure size 432x288 with 1 Axes>"
      ]
     },
     "metadata": {
      "needs_background": "light"
     },
     "output_type": "display_data"
    }
   ],
   "source": [
    "#plot the result of the previous cell\n",
    "plt.plot(RRR_0, ppp, \"ob\")\n",
    "\n",
    "#graph actual probability of outbreak\n",
    "plt.plot(RRR_0, 1-1/RRR_0, \"r\", label='probability without mutation')\n",
    "\n",
    "plt.title('mu1 = mu2 = 0.001')\n",
    "plt.xlabel(\"R_0\")\n",
    "plt.ylabel(\"p\")\n",
    "plt.xlim(0, 2.5)\n",
    "plt.ylim(0, 0.6)\n",
    "plt.legend()\n",
    "plt.show()"
   ]
  },
  {
   "cell_type": "markdown",
   "metadata": {},
   "source": [
    "The next two cells plot percentage of outbreaks against R_0, when mu_1 = mu_2 = 0.01"
   ]
  },
  {
   "cell_type": "code",
   "execution_count": 1366,
   "metadata": {},
   "outputs": [],
   "source": [
    "# This cell takes several minutes to run.\n",
    "\n",
    "mu_1 = 0.01\n",
    "mu_2 = 0.01\n",
    "\n",
    "# Take a some evenly spaced R_0 values from 0.01 to 2.5\n",
    "beta_range = np.linspace(0.001, 0.25, 100)\n",
    "gamma = 0.1\n",
    "\n",
    "RR_0 = []\n",
    "pp = []\n",
    "\n",
    "#simulate percentages of outbreak\n",
    "for beta in beta_range:\n",
    "    RR_0 = np.append(RR_0, beta/gamma)\n",
    "    pp = np.append(pp, sim_percentage(beta, gamma, mu_1, mu_2, N_sims=1000))"
   ]
  },
  {
   "cell_type": "code",
   "execution_count": 1367,
   "metadata": {},
   "outputs": [
    {
     "data": {
      "image/png": "[encoded data removed]",
      "text/plain": [
       "<Figure size 432x288 with 1 Axes>"
      ]
     },
     "metadata": {
      "needs_background": "light"
     },
     "output_type": "display_data"
    }
   ],
   "source": [
    "#plot the result of the previous cell\n",
    "plt.plot(RR_0, pp, \"ob\")\n",
    "\n",
    "#graph actual probability of outbreak\n",
    "plt.plot(RR_0, 1-1/RR_0, \"r\", label='probability without mutation')\n",
    "\n",
    "plt.title('mu1 = mu2 = 0.01')\n",
    "plt.xlabel(\"R_0\")\n",
    "plt.ylabel(\"p\")\n",
    "plt.xlim(0, 2.5)\n",
    "plt.ylim(0, 0.6)\n",
    "plt.legend()\n",
    "plt.show()"
   ]
  },
  {
   "cell_type": "markdown",
   "metadata": {},
   "source": [
    "The next two cells plot percentage of outbreaks against R_0, when mu_1 = mu_2 = 0.1"
   ]
  },
  {
   "cell_type": "code",
   "execution_count": 1373,
   "metadata": {},
   "outputs": [],
   "source": [
    "# This cell takes several minutes to run.\n",
    "\n",
    "mu_1 = 0.1\n",
    "mu_2 = 0.1\n",
    "\n",
    "# Take a some evenly spaced R_0 values from 0.01 to 2.5\n",
    "beta_range = np.linspace(0.001, 0.25, 100)\n",
    "gamma = 0.1\n",
    "\n",
    "R_0 = []\n",
    "p = []\n",
    "\n",
    "#simulate percentages of outbreak\n",
    "for beta in beta_range:\n",
    "    R_0 = np.append(R_0, beta/gamma)\n",
    "    p = np.append(p, sim_percentage(beta, gamma, mu_1, mu_2, N_sims=1000))"
   ]
  },
  {
   "cell_type": "code",
   "execution_count": 1374,
   "metadata": {},
   "outputs": [
    {
     "data": {
      "image/png": "[encoded data removed]",
      "text/plain": [
       "<Figure size 432x288 with 1 Axes>"
      ]
     },
     "metadata": {
      "needs_background": "light"
     },
     "output_type": "display_data"
    }
   ],
   "source": [
    "#plot the result of the previous cell\n",
    "plt.plot(R_0, p, \"ob\")\n",
    "\n",
    "#graph actual probability of outbreak\n",
    "plt.plot(R_0, 1-1/R_0, \"r\", label='probability without mutation')\n",
    "\n",
    "plt.title('mu1 = mu2 = 0.1')\n",
    "plt.xlabel(\"R_0\")\n",
    "plt.ylabel(\"p\")\n",
    "plt.xlim(0, 2.5)\n",
    "plt.ylim(0, 0.6)\n",
    "plt.legend()\n",
    "plt.show()"
   ]
  },
  {
   "cell_type": "markdown",
   "metadata": {},
   "source": [
    "Here is some more space to play with different values of mu_1 and mu_2"
   ]
  },
  {
   "cell_type": "code",
   "execution_count": 1370,
   "metadata": {},
   "outputs": [
    {
     "data": {
      "text/plain": [
       "0.0658"
      ]
     },
     "execution_count": 1370,
     "metadata": {},
     "output_type": "execute_result"
    }
   ],
   "source": [
    "#parameters\n",
    "beta_0 = 0.09\n",
    "gamma_0 = 0.1\n",
    "mu_1 = 0.01\n",
    "mu_2 = 0.01\n",
    "\n",
    "sim_percentage(beta_0, gamma_0, mu_1, mu_2, N_sims=10000)"
   ]
  },
  {
   "cell_type": "markdown",
   "metadata": {},
   "source": [
    "The next three cells generate some more graphs and visualizations.\n",
    "Specifically:\n",
    "    - run simulations WITHOUT recurrent spillover until we get an outbreak.\n",
    "    - plot beta and gamma over time.\n",
    "    - plot infecteds over time."
   ]
  },
  {
   "cell_type": "code",
   "execution_count": 1243,
   "metadata": {},
   "outputs": [],
   "source": [
    "#############################################################\n",
    "# version of sim which returns picture plotting information #\n",
    "#############################################################\n",
    "#\n",
    "# returns boolean, times, betas, gammas, N_infecteds\n",
    "# boolean is 0 if extinction, 1 if outbreak\n",
    "# all the others are arrays of the same length. \n",
    "# \"times\" is all the times of new infections. the others are corresponding values. \n",
    "# \n",
    "# TO DO: turn this return value into a class. rewrite stuff, then maybe replace sim with this function.\n",
    "# TO DO: define protocol complete_sim_until_time(t, infecteds)\n",
    "#     even if we have an outbreak, there will still be unbranched people that may have branched before the time of outbreak.\n",
    "#     complete all the branching up until the time of the outbreak.\n",
    "#############################################################\n",
    "\n",
    "def sim_plots(beta_0, gamma_0, mu_1=0, mu_2=0):\n",
    "    \n",
    "    outbreak_thresh = 100 #call it an outbreak if this many people are infected\n",
    "    \n",
    "    #stuff to fill and return\n",
    "    times = np.array([0])\n",
    "    betas = np.array([beta_0])\n",
    "    gammas = np.array([gamma_0])\n",
    "    N_infecteds = np.array([1])\n",
    "    \n",
    "    #will do this stuff right before we return\n",
    "    def sort_by_times(boolean, times, betas, gammas, N_infecteds):\n",
    "        \n",
    "        #sort 3 of the 4 return arrays in increasing order of time.\n",
    "        #N_infecteds is the only one that does not need to get sorted.\n",
    "        sorted_indices = np.argsort(times)\n",
    "        times = times[sorted_indices]\n",
    "        betas = betas[sorted_indices]\n",
    "        gammas = gammas[sorted_indices]\n",
    "        \n",
    "        return boolean, times, betas, gammas, N_infecteds \n",
    "    \n",
    "    #store active cases as an array of triples\n",
    "    #each triple looks like [beta, gamma, time of infection] and represents one infected person\n",
    "    infecteds=np.array([[beta_0, gamma_0, 0]])\n",
    "\n",
    "    N_infected = 1 #keep track of number of infected people. \n",
    "    \n",
    "    while True: \n",
    "        \n",
    "        #print(\"\\n\", \"infecteds now = \", infecteds)\n",
    "        \n",
    "        person = infecteds[0] #branch person 0. note infecteds is maintained in order of increasing time of infection, so this is the earliest infected person available.\n",
    "        [beta, gamma, t] = person\n",
    "        #print(\"\\n\", \"branching person who was infected at time\", t)\n",
    "\n",
    "        while True:\n",
    "            \n",
    "            #we might sometimes run into a person with beta = gamma = 0, as a result of mutation. \n",
    "            #in this case the next part would throw a divide by 0 error. \n",
    "            #this is a person who never transmits and never recovers, so we should just delete them\n",
    "            #we also subtract 1 from N_infected, in order to avoid throwing other errors. maybe think of a better way to deal with this in the future.\n",
    "            if beta == 0 and gamma == 0:\n",
    "                \n",
    "                print('deleting someone with beta=gamma=0')\n",
    "                \n",
    "                infecteds = np.delete(infecteds, 0, axis=0)\n",
    "                N_infected -= 1\n",
    "                \n",
    "                #if this was the last person, declare the infection extinct\n",
    "                #(if we tried to iterate again it would throw an error)\n",
    "                if N_infected == 0:\n",
    "                    t_ext = new_t\n",
    "                    return [0, t_ext]\n",
    "                break #skip to next person\n",
    "\n",
    "            #interevent time\n",
    "            #note this is interevent time for ONE person, NOT for entire population\n",
    "            dt = np.random.exponential(scale=1/(beta + gamma))\n",
    "            new_t = t + dt\n",
    "\n",
    "            #pick which event happens, transmission or recovery         \n",
    "            ev = np.random.rand() #draw number from uniform distribution over [0, 1)\n",
    "            prob_trans = beta / (beta+gamma) #probability of transmission\n",
    "\n",
    "            if (ev < prob_trans): #transmission\n",
    "\n",
    "                #print(\"transmitting\")\n",
    "\n",
    "                #pick beta and gamma for new case\n",
    "                #mutation is a number drawn from normal distribution with std dev mu_1 or mu_2\n",
    "                #don't allow negative beta or gamma\n",
    "                mut1 = np.random.normal(loc=0.0, scale=mu_1)\n",
    "                new_beta = max(0, beta + mut1)\n",
    "                mut2 = np.random.normal(loc=0.0, scale=mu_2)\n",
    "                new_gamma = max(0, gamma + mut2)\n",
    "                \n",
    "                #append new person to array of infecteds\n",
    "                infecteds = np.append(infecteds, [[new_beta, new_gamma, new_t]], axis=0)\n",
    "                \n",
    "                #print(\"new infection: \", [new_beta, new_gamma, new_t])\n",
    "\n",
    "                N_infected += 1\n",
    "                \n",
    "                #update return arrays\n",
    "                times = np.append(times, new_t)\n",
    "                betas = np.append(betas, new_beta)\n",
    "                gammas = np.append(gammas, new_gamma)\n",
    "                N_infecteds = np.append(N_infecteds, N_infected)\n",
    "\n",
    "                #check if we have an outbreak\n",
    "                if N_infected >= outbreak_thresh:\n",
    "                    \n",
    "                    #print(\"\\n\", \"outbreak!\")\n",
    "                    \n",
    "                    return sort_by_times(1, times, betas, gammas, N_infecteds)\n",
    "\n",
    "            else: #recovery\n",
    "\n",
    "                #print(\"recovering\") \n",
    "\n",
    "                N_infected -= 1\n",
    "\n",
    "                #check if we have extinction       \n",
    "                if N_infected == 0:\n",
    "                    t_ext = new_t #time of extinction\n",
    "                    \n",
    "                    #print(\"\\n\", \"extinction\")\n",
    "                    \n",
    "                    return sort_by_times(0, times, betas, gammas, N_infecteds)\n",
    "\n",
    "                #delete the person \n",
    "                infecteds = np.delete(infecteds, 0, axis=0)\n",
    "                break #skip to next person\n",
    "\n",
    "            #sort the array of infecteds in increasing order of time infected. \n",
    "            sorted_indices = np.argsort(infecteds[:,2])\n",
    "            infecteds = infecteds[sorted_indices]           "
   ]
  },
  {
   "cell_type": "code",
   "execution_count": 1557,
   "metadata": {},
   "outputs": [
    {
     "data": {
      "image/png": "[encoded data removed]",
      "text/plain": [
       "<Figure size 432x288 with 1 Axes>"
      ]
     },
     "metadata": {
      "needs_background": "light"
     },
     "output_type": "display_data"
    },
    {
     "data": {
      "image/png": "[encoded data removed]",
      "text/plain": [
       "<Figure size 432x288 with 1 Axes>"
      ]
     },
     "metadata": {
      "needs_background": "light"
     },
     "output_type": "display_data"
    }
   ],
   "source": [
    "#parameters\n",
    "beta_0 = 0.09\n",
    "gamma_0 = 0.1\n",
    "mu_1 = 0.001\n",
    "mu_2 = 0.001\n",
    "\n",
    "while True:\n",
    "    boolean, times, betas, gammas, N_infecteds = sim_plots(beta_0, gamma_0, mu_1, mu_2)\n",
    "    if boolean==1: break\n",
    "\n",
    "max_time=max(times)\n",
    "\n",
    "#plot betas and gammas over time\n",
    "plt.plot(times, betas, \"ob\", label='beta')\n",
    "plt.plot(times, gammas, \"vr\", label='gamma')\n",
    "plt.suptitle('mu_1 = mu_2 = 0.001')\n",
    "plt.xlabel(\"t\")\n",
    "plt.ylabel(\"parameters\")\n",
    "plt.xlim(0, 0.9*max_time)\n",
    "plt.legend()\n",
    "plt.show()\n",
    "\n",
    "#plot N_infecteds over times\n",
    "plt.plot(times, N_infecteds, label='number of infected')\n",
    "plt.xlabel(\"t\")\n",
    "plt.ylabel(\"I\")\n",
    "plt.xlim(0, 0.9*max_time)\n",
    "plt.legend()\n",
    "plt.show()"
   ]
  },
  {
   "cell_type": "markdown",
   "metadata": {},
   "source": [
    "Simulations WITH Recurrent Spillover"
   ]
  },
  {
   "cell_type": "code",
   "execution_count": 1358,
   "metadata": {},
   "outputs": [],
   "source": [
    "################################################\n",
    "# simulates infection WITH recurrent spillover #\n",
    "################################################\n",
    "#\n",
    "# input alpha = spillover rate.\n",
    "#\n",
    "# inputs beta_0, gamma_0, mu_1, mu_2 are the same as in the function sim from above\n",
    "#\n",
    "# there are two hidden inputs max_t_ext, t_s, which you should ignore. (do NOT pass in any values for these.)\n",
    "# they are only used implicitly when this function recursively calls itself.\n",
    "#\n",
    "################################################\n",
    "#\n",
    "# returns 1 if outbreak\n",
    "# returns 0 if extinction\n",
    "#\n",
    "################################################\n",
    "\n",
    "def recurrent_sim(alpha, beta_0, gamma_0, mu_1=0.001, mu_2=0.001, max_t_ext=0, t_s=0): \n",
    "    \n",
    "    #print(\"max_t_ext = \", max_t_ext)\n",
    "    \n",
    "    # hidden input max_t_ext keeps track of maximum extinction time seen so far\n",
    "    # hidden input t_s keeps track of most recent time of spillover\n",
    "    \n",
    "    # simulate tree from a new spillover event\n",
    "    sim_output = sim(beta_0, gamma_0, mu_1, mu_2)\n",
    "\n",
    "    # if simulation outbreaks, we are done\n",
    "    if sim_output == [1]:\n",
    "        \n",
    "        #print(\"\\n\", \"outbreak!\")\n",
    "        return 1\n",
    "    \n",
    "    # otherwise, that tree goes extinct\n",
    "    # but we need to check whether any other spillovers have happened\n",
    "    else:\n",
    "        \n",
    "        #print(\"max_t_ext updating, = max of \", max_t_ext, \"and\", sim_output[1])\n",
    "        max_t_ext = max(max_t_ext, sim_output[1]) #update max extinction time, if necessary\n",
    "        \n",
    "        #generate time of next spillover\n",
    "        dt_s = np.random.exponential(scale=1/alpha) #inter-spillover time\n",
    "        t_s += dt_s #time of next spillover\n",
    "        #print(\"time of spillover is t_s = \", t_s)\n",
    "\n",
    "        # if spillover occurs soon enough, we have to simulate another tree. recurse.\n",
    "        if t_s < max_t_ext: \n",
    "            \n",
    "            #print(\"a spillover occured! Recursing...\")\n",
    "            return recurrent_sim(alpha, beta_0, gamma_0, mu_1, mu_2, max_t_ext, t_s)\n",
    "\n",
    "        # if spillover occurs too late, we are done.\n",
    "        else: \n",
    "            \n",
    "            #print(\"next spillover too late. extinction!\")\n",
    "            return 0"
   ]
  },
  {
   "cell_type": "code",
   "execution_count": 1359,
   "metadata": {},
   "outputs": [
    {
     "data": {
      "text/plain": [
       "0"
      ]
     },
     "execution_count": 1359,
     "metadata": {},
     "output_type": "execute_result"
    }
   ],
   "source": [
    "####################################################\n",
    "# run a single simulation WITH recurrent spillover #\n",
    "####################################################\n",
    "\n",
    "#parameters\n",
    "alpha = 0.1\n",
    "beta_0 = 0.09\n",
    "gamma_0 = 0.1\n",
    "\n",
    "recurrent_sim(alpha, beta_0, gamma_0)"
   ]
  },
  {
   "cell_type": "code",
   "execution_count": 1395,
   "metadata": {},
   "outputs": [],
   "source": [
    "##################################################\n",
    "# runs many simulations WITH recurrent spillover #\n",
    "##################################################\n",
    "#\n",
    "# returns the percentage of them that outbreak\n",
    "#\n",
    "##################################################\n",
    "\n",
    "def recurrent_sim_percentage(alpha, beta_0, gamma_0, mu_1 = 0.01, mu_2 = 0.01, N_sims=100): \n",
    "    N_outbreaks = 0\n",
    "    for i in range(N_sims):\n",
    "        if recurrent_sim(alpha, beta_0, gamma_0, mu_1, mu_2) == 1: \n",
    "                N_outbreaks += 1\n",
    "    return N_outbreaks/N_sims"
   ]
  },
  {
   "cell_type": "code",
   "execution_count": 1396,
   "metadata": {},
   "outputs": [
    {
     "data": {
      "text/plain": [
       "0.09"
      ]
     },
     "execution_count": 1396,
     "metadata": {},
     "output_type": "execute_result"
    }
   ],
   "source": [
    "##################################################\n",
    "# run a bulk simulation WITH recurrent spillover #\n",
    "##################################################\n",
    "\n",
    "#parameters\n",
    "alpha = 0.7\n",
    "beta_0 = 0.09\n",
    "gamma_0 = 0.1\n",
    "\n",
    "recurrent_sim_percentage(alpha, beta_0, gamma_0, mu_1=0.001, mu_2=0.001)"
   ]
  },
  {
   "cell_type": "code",
   "execution_count": 1499,
   "metadata": {},
   "outputs": [],
   "source": [
    "#plot percentage of outbreaks vs alpha (other parameters fixed)\n",
    "\n",
    "#parameters\n",
    "beta_0 = 0.09\n",
    "gamma_0 = 0.1\n",
    "mu_1 = 0.001\n",
    "mu_2 = 0.001\n",
    "\n",
    "max_alpha = 1\n",
    "\n",
    "alphas=np.linspace(0.001, max_alpha, 20)\n",
    "percentages = []\n",
    "\n",
    "for alpha in alphas:\n",
    "    percentages = np.append(\n",
    "        percentages, recurrent_sim_percentage(\n",
    "            alpha, beta_0, gamma_0, mu_1, mu_2, N_sims=500))   \n",
    "    "
   ]
  },
  {
   "cell_type": "code",
   "execution_count": 1500,
   "metadata": {},
   "outputs": [
    {
     "data": {
      "image/png": "[encoded data removed]",
      "text/plain": [
       "<Figure size 432x288 with 1 Axes>"
      ]
     },
     "metadata": {
      "needs_background": "light"
     },
     "output_type": "display_data"
    }
   ],
   "source": [
    "plt.plot(alphas, percentages)\n",
    "plt.title('beta=0.09, gamma=0.1, mu1=mu2=0')\n",
    "plt.xlabel('alpha')\n",
    "plt.ylabel('p')                      \n",
    "#plt.ylim(-.1,1.1)\n",
    "plt.xlim(0, max_alpha)\n",
    "plt.show()"
   ]
  },
  {
   "cell_type": "code",
   "execution_count": null,
   "metadata": {},
   "outputs": [],
   "source": []
  }
 ],
 "metadata": {
  "kernelspec": {
   "display_name": "Python 3",
   "language": "python",
   "name": "python3"
  },
  "language_info": {
   "codemirror_mode": {
    "name": "ipython",
    "version": 3
   },
   "file_extension": ".py",
   "mimetype": "text/x-python",
   "name": "python",
   "nbconvert_exporter": "python",
   "pygments_lexer": "ipython3",
   "version": "3.7.6"
  }
 },
 "nbformat": 4,
 "nbformat_minor": 4
}
